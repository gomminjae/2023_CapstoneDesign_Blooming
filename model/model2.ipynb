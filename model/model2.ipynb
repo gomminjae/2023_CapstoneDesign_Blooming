{
  "nbformat": 4,
  "nbformat_minor": 0,
  "metadata": {
    "colab": {
      "provenance": [],
      "gpuType": "T4"
    },
    "kernelspec": {
      "name": "python3",
      "display_name": "Python 3"
    },
    "language_info": {
      "name": "python"
    },
    "accelerator": "GPU",
    "gpuClass": "standard"
  },
  "cells": [
    {
      "cell_type": "code",
      "execution_count": 1,
      "metadata": {
        "colab": {
          "base_uri": "https://localhost:8080/"
        },
        "id": "VLC14LPamzyO",
        "outputId": "102bc873-49a9-4d3f-8187-adb5bb69f62b"
      },
      "outputs": [
        {
          "output_type": "stream",
          "name": "stdout",
          "text": [
            "/content\n"
          ]
        }
      ],
      "source": [
        "!pwd"
      ]
    },
    {
      "cell_type": "code",
      "source": [
        "!curl -L \"https://universe.roboflow.com/ds/CDRtr12hbW?key=3KmCW6TlHE\" > roboflow.zip; unzip roboflow.zip; rm roboflow.zip"
      ],
      "metadata": {
        "colab": {
          "base_uri": "https://localhost:8080/"
        },
        "id": "szmkBvBonS72",
        "outputId": "b8dfb436-0fec-4599-862d-6b0d50522696"
      },
      "execution_count": null,
      "outputs": [
        {
          "output_type": "stream",
          "name": "stdout",
          "text": [
            "  % Total    % Received % Xferd  Average Speed   Time    Time     Time  Current\n",
            "                                 Dload  Upload   Total   Spent    Left  Speed\n",
            "100   901  100   901    0     0    353      0  0:00:02  0:00:02 --:--:--   353\n",
            "100 5469k  100 5469k    0     0  1955k      0  0:00:02  0:00:02 --:--:-- 1955k\n",
            "Archive:  roboflow.zip\n",
            " extracting: README.dataset.txt      \n",
            " extracting: README.roboflow.txt     \n",
            " extracting: data.yaml               \n",
            "   creating: test/\n",
            "   creating: test/images/\n",
            " extracting: test/images/19_png.rf.74ed4838db5303610983dc0fbf4d7589.jpg  \n",
            " extracting: test/images/33_jpg.rf.b3360302a829f087e9d2cfa37c689a87.jpg  \n",
            " extracting: test/images/36_jpg.rf.6f567ca39ba8f96d134fa74ad298056c.jpg  \n",
            " extracting: test/images/3_PNG.rf.116a4cf134e5720ec85c1a9f811bfbd5.jpg  \n",
            " extracting: test/images/8_PNG.rf.376cf10bf015f8c9cdb497ff79e8d29e.jpg  \n",
            "   creating: test/labels/\n",
            " extracting: test/labels/19_png.rf.74ed4838db5303610983dc0fbf4d7589.txt  \n",
            " extracting: test/labels/33_jpg.rf.b3360302a829f087e9d2cfa37c689a87.txt  \n",
            " extracting: test/labels/36_jpg.rf.6f567ca39ba8f96d134fa74ad298056c.txt  \n",
            " extracting: test/labels/3_PNG.rf.116a4cf134e5720ec85c1a9f811bfbd5.txt  \n",
            " extracting: test/labels/8_PNG.rf.376cf10bf015f8c9cdb497ff79e8d29e.txt  \n",
            "   creating: train/\n",
            "   creating: train/images/\n",
            " extracting: train/images/1---Copy_jpg.rf.09281e28089d4455c0b5695ec6e390d7.jpg  \n",
            " extracting: train/images/1---Copy_jpg.rf.302fa39fef1ec55c5e910cf5e85cc6d4.jpg  \n",
            " extracting: train/images/1---Copy_jpg.rf.bce20cd584fba678033a6d53ae9b2971.jpg  \n",
            " extracting: train/images/10---Copy_jpg.rf.2b03cdd8551d955a019c56293d3bd713.jpg  \n",
            " extracting: train/images/10---Copy_jpg.rf.b37b4c6e060517291ce831b31afb7acc.jpg  \n",
            " extracting: train/images/10---Copy_jpg.rf.eee5515354bdea208d512f0a2eefaeb9.jpg  \n",
            " extracting: train/images/10_PNG.rf.3c6985327791d06c4bdf1bc7e7ae5557.jpg  \n",
            " extracting: train/images/10_PNG.rf.7bd6f3ac2667b025c86fb99a22df9108.jpg  \n",
            " extracting: train/images/10_PNG.rf.edf694eaecd4f8ba9af289fc3b10ec50.jpg  \n",
            " extracting: train/images/11_jpg.rf.30f1c54be04efd7185fc4663e8ac0258.jpg  \n",
            " extracting: train/images/11_jpg.rf.cc5835f0cf5af0238a3f4d94618b90d1.jpg  \n",
            " extracting: train/images/11_jpg.rf.eebcb42b44eae3b951125dd6f7aac1cf.jpg  \n",
            " extracting: train/images/12_PNG.rf.113ec7d6a1f16de0b25f6679b34e59e2.jpg  \n",
            " extracting: train/images/12_PNG.rf.1a7f0595d20d056e396d3847a0d06b90.jpg  \n",
            " extracting: train/images/12_PNG.rf.8dfc7b68328082fc58e65f2d28f5e180.jpg  \n",
            " extracting: train/images/13_jpg.rf.7475552b7ad6fab0c15c559b68105a38.jpg  \n",
            " extracting: train/images/13_jpg.rf.793bafb4c4d4de67ef2acfba25c86d48.jpg  \n",
            " extracting: train/images/13_jpg.rf.b93446d7a6aef6196008d0b84086b4eb.jpg  \n",
            " extracting: train/images/14_PNG.rf.437f6e794c3c39a10a1dd4e12285abf6.jpg  \n",
            " extracting: train/images/14_PNG.rf.a27fd347c9ec6ff73f910bacd41099a2.jpg  \n",
            " extracting: train/images/14_PNG.rf.b8c9512c399eb374c82e2f76c1289761.jpg  \n",
            " extracting: train/images/14_png.rf.08377c44732d281cb729c7f14dd8bb55.jpg  \n",
            " extracting: train/images/14_png.rf.57eb8286dae008c076741be7c522c9e5.jpg  \n",
            " extracting: train/images/14_png.rf.9fc4aa8ad0eb9e0c40033c19c441d1cf.jpg  \n",
            " extracting: train/images/15---Copy_png.rf.557c39b3d8d3634e931f8d5b551fa323.jpg  \n",
            " extracting: train/images/15---Copy_png.rf.675c5d266ef35a8e5c24334111ee513e.jpg  \n",
            " extracting: train/images/15---Copy_png.rf.f74ddf78975457666bb6688603f1477c.jpg  \n",
            " extracting: train/images/16_PNG.rf.7157c7ea36f3a7dc1bcb33bfb80637cf.jpg  \n",
            " extracting: train/images/16_PNG.rf.94e308fa0223964c98fef7218d559feb.jpg  \n",
            " extracting: train/images/16_PNG.rf.d9888e46d1b61c395aa0769391ed019e.jpg  \n",
            " extracting: train/images/16_png.rf.38ef0a82446aa45f4817b27a00d2aaab.jpg  \n",
            " extracting: train/images/16_png.rf.47f25464c0ba26931e6f210cdf4949b1.jpg  \n",
            " extracting: train/images/16_png.rf.5f5ea9aa97bd50446c15e2cd096fbeaf.jpg  \n",
            " extracting: train/images/17_PNG.rf.16ea2d664c1ace24531da322c46d0cc8.jpg  \n",
            " extracting: train/images/17_PNG.rf.a5d8f6435b23df805b70051fe2b136bc.jpg  \n",
            " extracting: train/images/17_PNG.rf.c74fbd8f894377e0bd24645764215d5a.jpg  \n",
            " extracting: train/images/17_png.rf.46885d85e589301b4463eca1862e34ae.jpg  \n",
            " extracting: train/images/17_png.rf.66a173fcb5d637bcfbb4ccb7a2e218c7.jpg  \n",
            " extracting: train/images/17_png.rf.81a996c39defa00edbe9eb8bd1dc5123.jpg  \n",
            " extracting: train/images/18_PNG.rf.1e9b260ce8283c81b22c842d86ea8c86.jpg  \n",
            " extracting: train/images/18_PNG.rf.2f5c83ac590a1c8c4692f32dcad0ab9d.jpg  \n",
            " extracting: train/images/18_PNG.rf.675f6c0acae43c766bf891ae15487129.jpg  \n",
            " extracting: train/images/18_png.rf.47ea5fc84e4d5a02bda5f1b1f82a36f9.jpg  \n",
            " extracting: train/images/18_png.rf.8d3ef38ecb95a463c89da846031b502c.jpg  \n",
            " extracting: train/images/18_png.rf.e53be9259ef656480ff7a9719299a3e6.jpg  \n",
            " extracting: train/images/19_PNG.rf.0b89edbaf449bc120ef636317b748890.jpg  \n",
            " extracting: train/images/19_PNG.rf.94224cb340666ed73e01bea103032252.jpg  \n",
            " extracting: train/images/19_PNG.rf.e45db47d79c411002a6288603fa7e38e.jpg  \n",
            " extracting: train/images/2---Copy_jpg.rf.28b794823464f693bb7c69a9dfd3ed2b.jpg  \n",
            " extracting: train/images/2---Copy_jpg.rf.780ca18d3eb657d4e7be5ca008955827.jpg  \n",
            " extracting: train/images/2---Copy_jpg.rf.a7ec7fd7f44cae0a0dcaddce6501422c.jpg  \n",
            " extracting: train/images/20_PNG.rf.091eab323ce739901bdfc5c921bf90aa.jpg  \n",
            " extracting: train/images/20_PNG.rf.56db9d1ade5cb269fe79a3a0ff974668.jpg  \n",
            " extracting: train/images/20_PNG.rf.f6f46256beaed38e8215c751717ce12b.jpg  \n",
            " extracting: train/images/20_png.rf.0de6dd594468f4cc43b1d33e4f5362e9.jpg  \n",
            " extracting: train/images/20_png.rf.2ca8c8d6b21c3315ab577dbd6ebb504d.jpg  \n",
            " extracting: train/images/20_png.rf.bca559e4a65f06ea579c45b235abbe4e.jpg  \n",
            " extracting: train/images/21_jpg.rf.0c1ee4c3c14357650d8e4cd3ea9238d8.jpg  \n",
            " extracting: train/images/21_jpg.rf.9bde27a214d1c1a898563314b13487ef.jpg  \n",
            " extracting: train/images/21_jpg.rf.a9d9c9d8637ae51d38ff02ffffe44382.jpg  \n",
            " extracting: train/images/22_jpg.rf.2f6509c6787aeb72634e1fe43b7b9034.jpg  \n",
            " extracting: train/images/22_jpg.rf.8b6abf5f208318f0fd44bf7434b3e99e.jpg  \n",
            " extracting: train/images/22_jpg.rf.95de52b259af95af19ceb1fbb5437586.jpg  \n",
            " extracting: train/images/23_PNG.rf.054d86173fe9974cc103ca2047fa6b47.jpg  \n",
            " extracting: train/images/23_PNG.rf.bdce203f3e65c5deb843f9b8a50dfeec.jpg  \n",
            " extracting: train/images/23_PNG.rf.d36be3e551862e09686ae3adc55cbc35.jpg  \n",
            " extracting: train/images/23_jpg.rf.08603ec3a4711f1b38ab8ee671c29bf7.jpg  \n",
            " extracting: train/images/23_jpg.rf.5a4a751719a3782a1b222ec5127087b4.jpg  \n",
            " extracting: train/images/23_jpg.rf.e8107d72675f3099dccd709b04d1619a.jpg  \n",
            " extracting: train/images/24_jpg.rf.1a5e9cbb5af378cbfb7b9387b850e619.jpg  \n",
            " extracting: train/images/24_jpg.rf.9ba165ea8e2e483e7833083a40d55c82.jpg  \n",
            " extracting: train/images/24_jpg.rf.f0d305db99b845829659d865b2612c1e.jpg  \n",
            " extracting: train/images/25_png.rf.28f7ff4135c2bceb6fcb58d020228aca.jpg  \n",
            " extracting: train/images/25_png.rf.7dcee721d8c98c9d39be89b85e51ae2f.jpg  \n",
            " extracting: train/images/25_png.rf.dfe844a87af7f1c2f1b137a162613686.jpg  \n",
            " extracting: train/images/26_png.rf.6871caeb7e3d46af0ff2f8b5b9d3d869.jpg  \n",
            " extracting: train/images/26_png.rf.aab6d7196a7fe1131f0bd513375f2c79.jpg  \n",
            " extracting: train/images/26_png.rf.d23038d1c131e28ac812a463d42779f9.jpg  \n",
            " extracting: train/images/27_jpg.rf.3cba4674f970b2a733c2468dbbe626cb.jpg  \n",
            " extracting: train/images/27_jpg.rf.b6fedecfc2a78adbe389ddd176d9b30c.jpg  \n",
            " extracting: train/images/27_jpg.rf.e12fc4ea4cda4cf60210106dc0f77044.jpg  \n",
            " extracting: train/images/28_jpg.rf.25f108c96659d593573d4c59b0e3f4b0.jpg  \n",
            " extracting: train/images/28_jpg.rf.7e8a7f9cf3399e31592c10a20adde786.jpg  \n",
            " extracting: train/images/28_jpg.rf.9d3ef9fec8a943e0b2138847d1ba796b.jpg  \n",
            " extracting: train/images/2_PNG.rf.d5fe97609f2e1cdc2d3d66376f7b6765.jpg  \n",
            " extracting: train/images/2_PNG.rf.e6a93a9a2477b44d1d47d2e4819e2e43.jpg  \n",
            " extracting: train/images/2_PNG.rf.fea3f578d057edb1f37d2407d4600f1d.jpg  \n",
            " extracting: train/images/30_jpg.rf.4084959cd18c2cb1b3d7d7ae404fbb4c.jpg  \n",
            " extracting: train/images/30_jpg.rf.c9f219b0e9b05ef4d1098cd0da06c1ec.jpg  \n",
            " extracting: train/images/30_jpg.rf.e3ca00d1cd291043c8303d3dd40710e4.jpg  \n",
            " extracting: train/images/31_jpg.rf.059c25ac3c3bb2d8f6ab2d780b677a5f.jpg  \n",
            " extracting: train/images/31_jpg.rf.886904492fc654c65ce873197f1f399f.jpg  \n",
            " extracting: train/images/31_jpg.rf.a11155de60586e610c636255291ae09d.jpg  \n",
            " extracting: train/images/32_jpg.rf.6d30924b27b912a35927f8a90f98a4b8.jpg  \n",
            " extracting: train/images/32_jpg.rf.9e1379c19c6d624f55f94ca1fd5303a5.jpg  \n",
            " extracting: train/images/32_jpg.rf.e35e926e83b98629dcca8cfb630f2fe7.jpg  \n",
            " extracting: train/images/34_png.rf.03d1245ff4bb0bef2648197ddaf13c99.jpg  \n",
            " extracting: train/images/34_png.rf.07c3ab7e8600f49ee7ce5717aa7c1363.jpg  \n",
            " extracting: train/images/34_png.rf.1b8bd771994c3581945e2ebfe05ea56e.jpg  \n",
            " extracting: train/images/37_png.rf.1464164c5cf938d9bd785000c6ffdf59.jpg  \n",
            " extracting: train/images/37_png.rf.2df8af5a5c81348c8b0d224ce99f70d5.jpg  \n",
            " extracting: train/images/37_png.rf.87bc2e522e3f102b24fe6c65fee905cb.jpg  \n",
            " extracting: train/images/3_png.rf.13a55e50e6b7255b68f60fcf50c2099a.jpg  \n",
            " extracting: train/images/3_png.rf.d527553738882f28af248afd21be0702.jpg  \n",
            " extracting: train/images/3_png.rf.d549f01b3ed8dcd5d63870b1d9dbf7c9.jpg  \n",
            " extracting: train/images/4---Copy_jpeg.rf.1e3348982c9d35ac2b8a7731dc97cfc3.jpg  \n",
            " extracting: train/images/4---Copy_jpeg.rf.85c6818ba48bff31e92f9cad265bf9f2.jpg  \n",
            " extracting: train/images/4---Copy_jpeg.rf.92c8b1e13d25ea3af00fa8839f05e6a7.jpg  \n",
            " extracting: train/images/4_PNG.rf.3972a372d0d6b6bb7a86aef7af79eea8.jpg  \n",
            " extracting: train/images/4_PNG.rf.cab884791abc7060ae98d5a967084ac2.jpg  \n",
            " extracting: train/images/4_PNG.rf.eab00c9fce6ed663c9c0743f4df37077.jpg  \n",
            " extracting: train/images/5---Copy_jpg.rf.de41129f7d93ac471d84bd83b124bedd.jpg  \n",
            " extracting: train/images/5---Copy_jpg.rf.e51ca693fff489c7477bc08e6f23b778.jpg  \n",
            " extracting: train/images/5---Copy_jpg.rf.f6fcce868f9ced67b0abe85fcd7512a6.jpg  \n",
            " extracting: train/images/5_PNG.rf.2437d6808242dce797ade20e31505596.jpg  \n",
            " extracting: train/images/5_PNG.rf.441c4fbd3433032c91e598d6a2f7755c.jpg  \n",
            " extracting: train/images/5_PNG.rf.b2061657020f335b317a6b7a8903ce01.jpg  \n",
            " extracting: train/images/6---Copy_jpg.rf.79ad1d20b7f275d80e909186f9717c2c.jpg  \n",
            " extracting: train/images/6---Copy_jpg.rf.a2f602ab4c0869d611ee99dca3ccdccd.jpg  \n",
            " extracting: train/images/6---Copy_jpg.rf.f0404d10a2b085529be195580414e5b7.jpg  \n",
            " extracting: train/images/7---Copy_jpg.rf.7b4b79f566073993d0eccdff833d2ade.jpg  \n",
            " extracting: train/images/7---Copy_jpg.rf.9d81220c469a829f4cd3c510dc39fc34.jpg  \n",
            " extracting: train/images/7---Copy_jpg.rf.dc12fc42de341fc46e73dbe18d6dd457.jpg  \n",
            " extracting: train/images/8---Copy_jpg.rf.06a905f2b7b735b5f779901ce329effd.jpg  \n",
            " extracting: train/images/8---Copy_jpg.rf.43103b6a6b7c89a6d71d9dc44b9e5b27.jpg  \n",
            " extracting: train/images/8---Copy_jpg.rf.9835fb15ea1be78f05d2cb0941766f63.jpg  \n",
            "   creating: train/labels/\n",
            " extracting: train/labels/1---Copy_jpg.rf.09281e28089d4455c0b5695ec6e390d7.txt  \n",
            " extracting: train/labels/1---Copy_jpg.rf.302fa39fef1ec55c5e910cf5e85cc6d4.txt  \n",
            " extracting: train/labels/1---Copy_jpg.rf.bce20cd584fba678033a6d53ae9b2971.txt  \n",
            " extracting: train/labels/10---Copy_jpg.rf.2b03cdd8551d955a019c56293d3bd713.txt  \n",
            " extracting: train/labels/10---Copy_jpg.rf.b37b4c6e060517291ce831b31afb7acc.txt  \n",
            " extracting: train/labels/10---Copy_jpg.rf.eee5515354bdea208d512f0a2eefaeb9.txt  \n",
            " extracting: train/labels/10_PNG.rf.3c6985327791d06c4bdf1bc7e7ae5557.txt  \n",
            " extracting: train/labels/10_PNG.rf.7bd6f3ac2667b025c86fb99a22df9108.txt  \n",
            " extracting: train/labels/10_PNG.rf.edf694eaecd4f8ba9af289fc3b10ec50.txt  \n",
            " extracting: train/labels/11_jpg.rf.30f1c54be04efd7185fc4663e8ac0258.txt  \n",
            " extracting: train/labels/11_jpg.rf.cc5835f0cf5af0238a3f4d94618b90d1.txt  \n",
            " extracting: train/labels/11_jpg.rf.eebcb42b44eae3b951125dd6f7aac1cf.txt  \n",
            " extracting: train/labels/12_PNG.rf.113ec7d6a1f16de0b25f6679b34e59e2.txt  \n",
            " extracting: train/labels/12_PNG.rf.1a7f0595d20d056e396d3847a0d06b90.txt  \n",
            " extracting: train/labels/12_PNG.rf.8dfc7b68328082fc58e65f2d28f5e180.txt  \n",
            " extracting: train/labels/13_jpg.rf.7475552b7ad6fab0c15c559b68105a38.txt  \n",
            " extracting: train/labels/13_jpg.rf.793bafb4c4d4de67ef2acfba25c86d48.txt  \n",
            " extracting: train/labels/13_jpg.rf.b93446d7a6aef6196008d0b84086b4eb.txt  \n",
            " extracting: train/labels/14_PNG.rf.437f6e794c3c39a10a1dd4e12285abf6.txt  \n",
            " extracting: train/labels/14_PNG.rf.a27fd347c9ec6ff73f910bacd41099a2.txt  \n",
            " extracting: train/labels/14_PNG.rf.b8c9512c399eb374c82e2f76c1289761.txt  \n",
            " extracting: train/labels/14_png.rf.08377c44732d281cb729c7f14dd8bb55.txt  \n",
            " extracting: train/labels/14_png.rf.57eb8286dae008c076741be7c522c9e5.txt  \n",
            " extracting: train/labels/14_png.rf.9fc4aa8ad0eb9e0c40033c19c441d1cf.txt  \n",
            " extracting: train/labels/15---Copy_png.rf.557c39b3d8d3634e931f8d5b551fa323.txt  \n",
            " extracting: train/labels/15---Copy_png.rf.675c5d266ef35a8e5c24334111ee513e.txt  \n",
            " extracting: train/labels/15---Copy_png.rf.f74ddf78975457666bb6688603f1477c.txt  \n",
            " extracting: train/labels/16_PNG.rf.7157c7ea36f3a7dc1bcb33bfb80637cf.txt  \n",
            " extracting: train/labels/16_PNG.rf.94e308fa0223964c98fef7218d559feb.txt  \n",
            " extracting: train/labels/16_PNG.rf.d9888e46d1b61c395aa0769391ed019e.txt  \n",
            " extracting: train/labels/16_png.rf.38ef0a82446aa45f4817b27a00d2aaab.txt  \n",
            " extracting: train/labels/16_png.rf.47f25464c0ba26931e6f210cdf4949b1.txt  \n",
            " extracting: train/labels/16_png.rf.5f5ea9aa97bd50446c15e2cd096fbeaf.txt  \n",
            " extracting: train/labels/17_PNG.rf.16ea2d664c1ace24531da322c46d0cc8.txt  \n",
            " extracting: train/labels/17_PNG.rf.a5d8f6435b23df805b70051fe2b136bc.txt  \n",
            " extracting: train/labels/17_PNG.rf.c74fbd8f894377e0bd24645764215d5a.txt  \n",
            " extracting: train/labels/17_png.rf.46885d85e589301b4463eca1862e34ae.txt  \n",
            " extracting: train/labels/17_png.rf.66a173fcb5d637bcfbb4ccb7a2e218c7.txt  \n",
            " extracting: train/labels/17_png.rf.81a996c39defa00edbe9eb8bd1dc5123.txt  \n",
            " extracting: train/labels/18_PNG.rf.1e9b260ce8283c81b22c842d86ea8c86.txt  \n",
            " extracting: train/labels/18_PNG.rf.2f5c83ac590a1c8c4692f32dcad0ab9d.txt  \n",
            " extracting: train/labels/18_PNG.rf.675f6c0acae43c766bf891ae15487129.txt  \n",
            " extracting: train/labels/18_png.rf.47ea5fc84e4d5a02bda5f1b1f82a36f9.txt  \n",
            " extracting: train/labels/18_png.rf.8d3ef38ecb95a463c89da846031b502c.txt  \n",
            " extracting: train/labels/18_png.rf.e53be9259ef656480ff7a9719299a3e6.txt  \n",
            " extracting: train/labels/19_PNG.rf.0b89edbaf449bc120ef636317b748890.txt  \n",
            " extracting: train/labels/19_PNG.rf.94224cb340666ed73e01bea103032252.txt  \n",
            " extracting: train/labels/19_PNG.rf.e45db47d79c411002a6288603fa7e38e.txt  \n",
            " extracting: train/labels/2---Copy_jpg.rf.28b794823464f693bb7c69a9dfd3ed2b.txt  \n",
            " extracting: train/labels/2---Copy_jpg.rf.780ca18d3eb657d4e7be5ca008955827.txt  \n",
            " extracting: train/labels/2---Copy_jpg.rf.a7ec7fd7f44cae0a0dcaddce6501422c.txt  \n",
            " extracting: train/labels/20_PNG.rf.091eab323ce739901bdfc5c921bf90aa.txt  \n",
            " extracting: train/labels/20_PNG.rf.56db9d1ade5cb269fe79a3a0ff974668.txt  \n",
            " extracting: train/labels/20_PNG.rf.f6f46256beaed38e8215c751717ce12b.txt  \n",
            " extracting: train/labels/20_png.rf.0de6dd594468f4cc43b1d33e4f5362e9.txt  \n",
            " extracting: train/labels/20_png.rf.2ca8c8d6b21c3315ab577dbd6ebb504d.txt  \n",
            " extracting: train/labels/20_png.rf.bca559e4a65f06ea579c45b235abbe4e.txt  \n",
            " extracting: train/labels/21_jpg.rf.0c1ee4c3c14357650d8e4cd3ea9238d8.txt  \n",
            " extracting: train/labels/21_jpg.rf.9bde27a214d1c1a898563314b13487ef.txt  \n",
            " extracting: train/labels/21_jpg.rf.a9d9c9d8637ae51d38ff02ffffe44382.txt  \n",
            " extracting: train/labels/22_jpg.rf.2f6509c6787aeb72634e1fe43b7b9034.txt  \n",
            " extracting: train/labels/22_jpg.rf.8b6abf5f208318f0fd44bf7434b3e99e.txt  \n",
            " extracting: train/labels/22_jpg.rf.95de52b259af95af19ceb1fbb5437586.txt  \n",
            " extracting: train/labels/23_PNG.rf.054d86173fe9974cc103ca2047fa6b47.txt  \n",
            " extracting: train/labels/23_PNG.rf.bdce203f3e65c5deb843f9b8a50dfeec.txt  \n",
            " extracting: train/labels/23_PNG.rf.d36be3e551862e09686ae3adc55cbc35.txt  \n",
            " extracting: train/labels/23_jpg.rf.08603ec3a4711f1b38ab8ee671c29bf7.txt  \n",
            " extracting: train/labels/23_jpg.rf.5a4a751719a3782a1b222ec5127087b4.txt  \n",
            " extracting: train/labels/23_jpg.rf.e8107d72675f3099dccd709b04d1619a.txt  \n",
            " extracting: train/labels/24_jpg.rf.1a5e9cbb5af378cbfb7b9387b850e619.txt  \n",
            " extracting: train/labels/24_jpg.rf.9ba165ea8e2e483e7833083a40d55c82.txt  \n",
            " extracting: train/labels/24_jpg.rf.f0d305db99b845829659d865b2612c1e.txt  \n",
            " extracting: train/labels/25_png.rf.28f7ff4135c2bceb6fcb58d020228aca.txt  \n",
            " extracting: train/labels/25_png.rf.7dcee721d8c98c9d39be89b85e51ae2f.txt  \n",
            " extracting: train/labels/25_png.rf.dfe844a87af7f1c2f1b137a162613686.txt  \n",
            " extracting: train/labels/26_png.rf.6871caeb7e3d46af0ff2f8b5b9d3d869.txt  \n",
            " extracting: train/labels/26_png.rf.aab6d7196a7fe1131f0bd513375f2c79.txt  \n",
            " extracting: train/labels/26_png.rf.d23038d1c131e28ac812a463d42779f9.txt  \n",
            " extracting: train/labels/27_jpg.rf.3cba4674f970b2a733c2468dbbe626cb.txt  \n",
            " extracting: train/labels/27_jpg.rf.b6fedecfc2a78adbe389ddd176d9b30c.txt  \n",
            " extracting: train/labels/27_jpg.rf.e12fc4ea4cda4cf60210106dc0f77044.txt  \n",
            " extracting: train/labels/28_jpg.rf.25f108c96659d593573d4c59b0e3f4b0.txt  \n",
            " extracting: train/labels/28_jpg.rf.7e8a7f9cf3399e31592c10a20adde786.txt  \n",
            " extracting: train/labels/28_jpg.rf.9d3ef9fec8a943e0b2138847d1ba796b.txt  \n",
            " extracting: train/labels/2_PNG.rf.d5fe97609f2e1cdc2d3d66376f7b6765.txt  \n",
            " extracting: train/labels/2_PNG.rf.e6a93a9a2477b44d1d47d2e4819e2e43.txt  \n",
            " extracting: train/labels/2_PNG.rf.fea3f578d057edb1f37d2407d4600f1d.txt  \n",
            " extracting: train/labels/30_jpg.rf.4084959cd18c2cb1b3d7d7ae404fbb4c.txt  \n",
            " extracting: train/labels/30_jpg.rf.c9f219b0e9b05ef4d1098cd0da06c1ec.txt  \n",
            " extracting: train/labels/30_jpg.rf.e3ca00d1cd291043c8303d3dd40710e4.txt  \n",
            " extracting: train/labels/31_jpg.rf.059c25ac3c3bb2d8f6ab2d780b677a5f.txt  \n",
            " extracting: train/labels/31_jpg.rf.886904492fc654c65ce873197f1f399f.txt  \n",
            " extracting: train/labels/31_jpg.rf.a11155de60586e610c636255291ae09d.txt  \n",
            " extracting: train/labels/32_jpg.rf.6d30924b27b912a35927f8a90f98a4b8.txt  \n",
            " extracting: train/labels/32_jpg.rf.9e1379c19c6d624f55f94ca1fd5303a5.txt  \n",
            " extracting: train/labels/32_jpg.rf.e35e926e83b98629dcca8cfb630f2fe7.txt  \n",
            " extracting: train/labels/34_png.rf.03d1245ff4bb0bef2648197ddaf13c99.txt  \n",
            " extracting: train/labels/34_png.rf.07c3ab7e8600f49ee7ce5717aa7c1363.txt  \n",
            " extracting: train/labels/34_png.rf.1b8bd771994c3581945e2ebfe05ea56e.txt  \n",
            " extracting: train/labels/37_png.rf.1464164c5cf938d9bd785000c6ffdf59.txt  \n",
            " extracting: train/labels/37_png.rf.2df8af5a5c81348c8b0d224ce99f70d5.txt  \n",
            " extracting: train/labels/37_png.rf.87bc2e522e3f102b24fe6c65fee905cb.txt  \n",
            " extracting: train/labels/3_png.rf.13a55e50e6b7255b68f60fcf50c2099a.txt  \n",
            " extracting: train/labels/3_png.rf.d527553738882f28af248afd21be0702.txt  \n",
            " extracting: train/labels/3_png.rf.d549f01b3ed8dcd5d63870b1d9dbf7c9.txt  \n",
            " extracting: train/labels/4---Copy_jpeg.rf.1e3348982c9d35ac2b8a7731dc97cfc3.txt  \n",
            " extracting: train/labels/4---Copy_jpeg.rf.85c6818ba48bff31e92f9cad265bf9f2.txt  \n",
            " extracting: train/labels/4---Copy_jpeg.rf.92c8b1e13d25ea3af00fa8839f05e6a7.txt  \n",
            " extracting: train/labels/4_PNG.rf.3972a372d0d6b6bb7a86aef7af79eea8.txt  \n",
            " extracting: train/labels/4_PNG.rf.cab884791abc7060ae98d5a967084ac2.txt  \n",
            " extracting: train/labels/4_PNG.rf.eab00c9fce6ed663c9c0743f4df37077.txt  \n",
            " extracting: train/labels/5---Copy_jpg.rf.de41129f7d93ac471d84bd83b124bedd.txt  \n",
            " extracting: train/labels/5---Copy_jpg.rf.e51ca693fff489c7477bc08e6f23b778.txt  \n",
            " extracting: train/labels/5---Copy_jpg.rf.f6fcce868f9ced67b0abe85fcd7512a6.txt  \n",
            " extracting: train/labels/5_PNG.rf.2437d6808242dce797ade20e31505596.txt  \n",
            " extracting: train/labels/5_PNG.rf.441c4fbd3433032c91e598d6a2f7755c.txt  \n",
            " extracting: train/labels/5_PNG.rf.b2061657020f335b317a6b7a8903ce01.txt  \n",
            " extracting: train/labels/6---Copy_jpg.rf.79ad1d20b7f275d80e909186f9717c2c.txt  \n",
            " extracting: train/labels/6---Copy_jpg.rf.a2f602ab4c0869d611ee99dca3ccdccd.txt  \n",
            " extracting: train/labels/6---Copy_jpg.rf.f0404d10a2b085529be195580414e5b7.txt  \n",
            " extracting: train/labels/7---Copy_jpg.rf.7b4b79f566073993d0eccdff833d2ade.txt  \n",
            " extracting: train/labels/7---Copy_jpg.rf.9d81220c469a829f4cd3c510dc39fc34.txt  \n",
            " extracting: train/labels/7---Copy_jpg.rf.dc12fc42de341fc46e73dbe18d6dd457.txt  \n",
            " extracting: train/labels/8---Copy_jpg.rf.06a905f2b7b735b5f779901ce329effd.txt  \n",
            " extracting: train/labels/8---Copy_jpg.rf.43103b6a6b7c89a6d71d9dc44b9e5b27.txt  \n",
            " extracting: train/labels/8---Copy_jpg.rf.9835fb15ea1be78f05d2cb0941766f63.txt  \n",
            "   creating: valid/\n",
            "   creating: valid/images/\n",
            " extracting: valid/images/13_PNG.rf.c87d3ef90086ec0d21254a8a7c97147a.jpg  \n",
            " extracting: valid/images/1_PNG.rf.20d13bb46e44907bc31e5ae7a45aa9fe.jpg  \n",
            " extracting: valid/images/22_PNG.rf.4301005ebab69d06140308fa58e3892c.jpg  \n",
            " extracting: valid/images/35_jpg.rf.9b115c1fc6552f932ea894ee9290d78e.jpg  \n",
            "   creating: valid/labels/\n",
            " extracting: valid/labels/13_PNG.rf.c87d3ef90086ec0d21254a8a7c97147a.txt  \n",
            " extracting: valid/labels/1_PNG.rf.20d13bb46e44907bc31e5ae7a45aa9fe.txt  \n",
            " extracting: valid/labels/22_PNG.rf.4301005ebab69d06140308fa58e3892c.txt  \n",
            " extracting: valid/labels/35_jpg.rf.9b115c1fc6552f932ea894ee9290d78e.txt  \n"
          ]
        }
      ]
    },
    {
      "cell_type": "code",
      "source": [
        "!git clone https://github.com/ultralytics/yolov5.git"
      ],
      "metadata": {
        "colab": {
          "base_uri": "https://localhost:8080/"
        },
        "id": "VkJM8Kg4nUGg",
        "outputId": "7e5aa66d-3837-4ce3-f47b-f220745e3b86"
      },
      "execution_count": null,
      "outputs": [
        {
          "output_type": "stream",
          "name": "stdout",
          "text": [
            "fatal: destination path 'yolov5' already exists and is not an empty directory.\n"
          ]
        }
      ]
    },
    {
      "cell_type": "code",
      "source": [
        "%cd /content/yolov5/\n",
        "!pip install -r requirements.txt"
      ],
      "metadata": {
        "colab": {
          "base_uri": "https://localhost:8080/"
        },
        "id": "nsWELjOtnw5w",
        "outputId": "2ea5e14c-b3f4-44b8-d60b-8d67d6341f90"
      },
      "execution_count": null,
      "outputs": [
        {
          "output_type": "stream",
          "name": "stdout",
          "text": [
            "/content/yolov5\n",
            "Looking in indexes: https://pypi.org/simple, https://us-python.pkg.dev/colab-wheels/public/simple/\n",
            "Requirement already satisfied: gitpython>=3.1.30 in /usr/local/lib/python3.10/dist-packages (from -r requirements.txt (line 5)) (3.1.31)\n",
            "Requirement already satisfied: matplotlib>=3.3 in /usr/local/lib/python3.10/dist-packages (from -r requirements.txt (line 6)) (3.7.1)\n",
            "Requirement already satisfied: numpy>=1.18.5 in /usr/local/lib/python3.10/dist-packages (from -r requirements.txt (line 7)) (1.22.4)\n",
            "Requirement already satisfied: opencv-python>=4.1.1 in /usr/local/lib/python3.10/dist-packages (from -r requirements.txt (line 8)) (4.7.0.72)\n",
            "Requirement already satisfied: Pillow>=7.1.2 in /usr/local/lib/python3.10/dist-packages (from -r requirements.txt (line 9)) (8.4.0)\n",
            "Requirement already satisfied: psutil in /usr/local/lib/python3.10/dist-packages (from -r requirements.txt (line 10)) (5.9.5)\n",
            "Requirement already satisfied: PyYAML>=5.3.1 in /usr/local/lib/python3.10/dist-packages (from -r requirements.txt (line 11)) (6.0)\n",
            "Requirement already satisfied: requests>=2.23.0 in /usr/local/lib/python3.10/dist-packages (from -r requirements.txt (line 12)) (2.27.1)\n",
            "Requirement already satisfied: scipy>=1.4.1 in /usr/local/lib/python3.10/dist-packages (from -r requirements.txt (line 13)) (1.10.1)\n",
            "Requirement already satisfied: thop>=0.1.1 in /usr/local/lib/python3.10/dist-packages (from -r requirements.txt (line 14)) (0.1.1.post2209072238)\n",
            "Requirement already satisfied: torch>=1.7.0 in /usr/local/lib/python3.10/dist-packages (from -r requirements.txt (line 15)) (2.0.1+cu118)\n",
            "Requirement already satisfied: torchvision>=0.8.1 in /usr/local/lib/python3.10/dist-packages (from -r requirements.txt (line 16)) (0.15.2+cu118)\n",
            "Requirement already satisfied: tqdm>=4.64.0 in /usr/local/lib/python3.10/dist-packages (from -r requirements.txt (line 17)) (4.65.0)\n",
            "Requirement already satisfied: ultralytics>=8.0.100 in /usr/local/lib/python3.10/dist-packages (from -r requirements.txt (line 18)) (8.0.107)\n",
            "Requirement already satisfied: pandas>=1.1.4 in /usr/local/lib/python3.10/dist-packages (from -r requirements.txt (line 27)) (1.5.3)\n",
            "Requirement already satisfied: seaborn>=0.11.0 in /usr/local/lib/python3.10/dist-packages (from -r requirements.txt (line 28)) (0.12.2)\n",
            "Requirement already satisfied: setuptools>=65.5.1 in /usr/local/lib/python3.10/dist-packages (from -r requirements.txt (line 42)) (67.7.2)\n",
            "Requirement already satisfied: gitdb<5,>=4.0.1 in /usr/local/lib/python3.10/dist-packages (from gitpython>=3.1.30->-r requirements.txt (line 5)) (4.0.10)\n",
            "Requirement already satisfied: contourpy>=1.0.1 in /usr/local/lib/python3.10/dist-packages (from matplotlib>=3.3->-r requirements.txt (line 6)) (1.0.7)\n",
            "Requirement already satisfied: cycler>=0.10 in /usr/local/lib/python3.10/dist-packages (from matplotlib>=3.3->-r requirements.txt (line 6)) (0.11.0)\n",
            "Requirement already satisfied: fonttools>=4.22.0 in /usr/local/lib/python3.10/dist-packages (from matplotlib>=3.3->-r requirements.txt (line 6)) (4.39.3)\n",
            "Requirement already satisfied: kiwisolver>=1.0.1 in /usr/local/lib/python3.10/dist-packages (from matplotlib>=3.3->-r requirements.txt (line 6)) (1.4.4)\n",
            "Requirement already satisfied: packaging>=20.0 in /usr/local/lib/python3.10/dist-packages (from matplotlib>=3.3->-r requirements.txt (line 6)) (23.1)\n",
            "Requirement already satisfied: pyparsing>=2.3.1 in /usr/local/lib/python3.10/dist-packages (from matplotlib>=3.3->-r requirements.txt (line 6)) (3.0.9)\n",
            "Requirement already satisfied: python-dateutil>=2.7 in /usr/local/lib/python3.10/dist-packages (from matplotlib>=3.3->-r requirements.txt (line 6)) (2.8.2)\n",
            "Requirement already satisfied: urllib3<1.27,>=1.21.1 in /usr/local/lib/python3.10/dist-packages (from requests>=2.23.0->-r requirements.txt (line 12)) (1.26.15)\n",
            "Requirement already satisfied: certifi>=2017.4.17 in /usr/local/lib/python3.10/dist-packages (from requests>=2.23.0->-r requirements.txt (line 12)) (2022.12.7)\n",
            "Requirement already satisfied: charset-normalizer~=2.0.0 in /usr/local/lib/python3.10/dist-packages (from requests>=2.23.0->-r requirements.txt (line 12)) (2.0.12)\n",
            "Requirement already satisfied: idna<4,>=2.5 in /usr/local/lib/python3.10/dist-packages (from requests>=2.23.0->-r requirements.txt (line 12)) (3.4)\n",
            "Requirement already satisfied: filelock in /usr/local/lib/python3.10/dist-packages (from torch>=1.7.0->-r requirements.txt (line 15)) (3.12.0)\n",
            "Requirement already satisfied: typing-extensions in /usr/local/lib/python3.10/dist-packages (from torch>=1.7.0->-r requirements.txt (line 15)) (4.5.0)\n",
            "Requirement already satisfied: sympy in /usr/local/lib/python3.10/dist-packages (from torch>=1.7.0->-r requirements.txt (line 15)) (1.11.1)\n",
            "Requirement already satisfied: networkx in /usr/local/lib/python3.10/dist-packages (from torch>=1.7.0->-r requirements.txt (line 15)) (3.1)\n",
            "Requirement already satisfied: jinja2 in /usr/local/lib/python3.10/dist-packages (from torch>=1.7.0->-r requirements.txt (line 15)) (3.1.2)\n",
            "Requirement already satisfied: triton==2.0.0 in /usr/local/lib/python3.10/dist-packages (from torch>=1.7.0->-r requirements.txt (line 15)) (2.0.0)\n",
            "Requirement already satisfied: cmake in /usr/local/lib/python3.10/dist-packages (from triton==2.0.0->torch>=1.7.0->-r requirements.txt (line 15)) (3.25.2)\n",
            "Requirement already satisfied: lit in /usr/local/lib/python3.10/dist-packages (from triton==2.0.0->torch>=1.7.0->-r requirements.txt (line 15)) (16.0.5)\n",
            "Requirement already satisfied: sentry-sdk in /usr/local/lib/python3.10/dist-packages (from ultralytics>=8.0.100->-r requirements.txt (line 18)) (1.24.0)\n",
            "Requirement already satisfied: pytz>=2020.1 in /usr/local/lib/python3.10/dist-packages (from pandas>=1.1.4->-r requirements.txt (line 27)) (2022.7.1)\n",
            "Requirement already satisfied: smmap<6,>=3.0.1 in /usr/local/lib/python3.10/dist-packages (from gitdb<5,>=4.0.1->gitpython>=3.1.30->-r requirements.txt (line 5)) (5.0.0)\n",
            "Requirement already satisfied: six>=1.5 in /usr/local/lib/python3.10/dist-packages (from python-dateutil>=2.7->matplotlib>=3.3->-r requirements.txt (line 6)) (1.16.0)\n",
            "Requirement already satisfied: MarkupSafe>=2.0 in /usr/local/lib/python3.10/dist-packages (from jinja2->torch>=1.7.0->-r requirements.txt (line 15)) (2.1.2)\n",
            "Requirement already satisfied: mpmath>=0.19 in /usr/local/lib/python3.10/dist-packages (from sympy->torch>=1.7.0->-r requirements.txt (line 15)) (1.3.0)\n"
          ]
        }
      ]
    },
    {
      "cell_type": "code",
      "source": [
        "%cat /content/dataset/data.yaml"
      ],
      "metadata": {
        "colab": {
          "base_uri": "https://localhost:8080/"
        },
        "id": "IUvSNDKsn10y",
        "outputId": "28bc2785-b3df-4b7f-cf04-8bdc60f0d0d0"
      },
      "execution_count": null,
      "outputs": [
        {
          "output_type": "stream",
          "name": "stdout",
          "text": [
            "names:\n",
            "- Car\n",
            "- Empty\n",
            "nc: 2\n",
            "test: /content/dataset/test.txt\n",
            "train: /content/dataset/train.txt\n",
            "val: /content/dataset/valid.txt\n"
          ]
        }
      ]
    },
    {
      "cell_type": "code",
      "source": [
        "%cd /\n",
        "from glob import glob\n",
        "train_img_list = glob('/content/dataset/train/images/*.jpg')\n",
        "test_img_list = glob('/content/dataset/test/images/*.jpg')\n",
        "valid_img_list = glob('/content/dataset/valid/images/*.jpg')\n",
        "print(len(train_img_list), len(test_img_list), len(valid_img_list))"
      ],
      "metadata": {
        "colab": {
          "base_uri": "https://localhost:8080/"
        },
        "id": "r0u2qZpvoF4g",
        "outputId": "04b9dcc5-3ff7-48d6-8d18-1d9c1ff503fa"
      },
      "execution_count": null,
      "outputs": [
        {
          "output_type": "stream",
          "name": "stdout",
          "text": [
            "/\n",
            "627 36 18\n"
          ]
        }
      ]
    },
    {
      "cell_type": "code",
      "source": [
        "with open('/content/dataset/train.txt', 'w') as f:\n",
        "  f.write('\\n'.join(train_img_list) + '\\n')\n",
        "\n",
        "with open('/content/dataset/test.txt', 'w') as f:\n",
        "  f.write('\\n'.join(test_img_list) + '\\n')\n",
        "\n",
        "with open('/content/dataset/valid.txt', 'w') as f:\n",
        "  f.write('\\n'.join(valid_img_list) + '\\n')"
      ],
      "metadata": {
        "id": "CBv-7D84oXYm"
      },
      "execution_count": null,
      "outputs": []
    },
    {
      "cell_type": "code",
      "source": [
        "import yaml\n",
        "\n",
        "with open('/content/dataset/data.yaml','r') as f:\n",
        "  data =yaml.safe_load(f)\n",
        "\n",
        "print(data)\n",
        "\n",
        "data['train']='/content/dataset/train.txt'\n",
        "data['test']='/content/dataset/test.txt'\n",
        "data['val']='/content/dataset/valid.txt'\n",
        "\n",
        "with open('content/dataset/data.yaml', 'w') as f:\n",
        "  yaml.dump(data, f)\n",
        "\n",
        "print(data)"
      ],
      "metadata": {
        "colab": {
          "base_uri": "https://localhost:8080/"
        },
        "id": "HtZwulYSoeQ1",
        "outputId": "c6db9c20-4953-4c8f-8e09-88905d15060e"
      },
      "execution_count": null,
      "outputs": [
        {
          "output_type": "stream",
          "name": "stdout",
          "text": [
            "{'names': ['Car', 'Empty'], 'nc': 2, 'test': '/content/dataset/test.txt', 'train': '/content/dataset/train.txt', 'val': '/content/dataset/valid.txt'}\n",
            "{'names': ['Car', 'Empty'], 'nc': 2, 'test': '/content/dataset/test.txt', 'train': '/content/dataset/train.txt', 'val': '/content/dataset/valid.txt'}\n"
          ]
        }
      ]
    },
    {
      "cell_type": "code",
      "source": [
        "%cd /content/yolov5/\n",
        "\n",
        "!python train.py --img 416 --batch 32 --epoch 10 --data /content/dataset/data.yaml --cfg ./models/yolov5s.yaml --weights yolov5s.pt --name park_yolov5s_results"
      ],
      "metadata": {
        "colab": {
          "base_uri": "https://localhost:8080/"
        },
        "id": "if90-1Psom9J",
        "outputId": "a978cda6-0d9f-4c46-f4a1-abc5d8261195"
      },
      "execution_count": null,
      "outputs": [
        {
          "output_type": "stream",
          "name": "stdout",
          "text": [
            "/content/yolov5\n",
            "\u001b[34m\u001b[1mtrain: \u001b[0mweights=yolov5s.pt, cfg=./models/yolov5s.yaml, data=/content/dataset/data.yaml, hyp=data/hyps/hyp.scratch-low.yaml, epochs=10, batch_size=32, imgsz=416, rect=False, resume=False, nosave=False, noval=False, noautoanchor=False, noplots=False, evolve=None, bucket=, cache=None, image_weights=False, device=, multi_scale=False, single_cls=False, optimizer=SGD, sync_bn=False, workers=8, project=runs/train, name=park_yolov5s_results, exist_ok=False, quad=False, cos_lr=False, label_smoothing=0.0, patience=100, freeze=[0], save_period=-1, seed=0, local_rank=-1, entity=None, upload_dataset=False, bbox_interval=-1, artifact_alias=latest\n",
            "\u001b[34m\u001b[1mgithub: \u001b[0mup to date with https://github.com/ultralytics/yolov5 ✅\n",
            "YOLOv5 🚀 v7.0-172-gc3c1304 Python-3.10.11 torch-2.0.1+cu118 CUDA:0 (Tesla T4, 15102MiB)\n",
            "\n",
            "\u001b[34m\u001b[1mhyperparameters: \u001b[0mlr0=0.01, lrf=0.01, momentum=0.937, weight_decay=0.0005, warmup_epochs=3.0, warmup_momentum=0.8, warmup_bias_lr=0.1, box=0.05, cls=0.5, cls_pw=1.0, obj=1.0, obj_pw=1.0, iou_t=0.2, anchor_t=4.0, fl_gamma=0.0, hsv_h=0.015, hsv_s=0.7, hsv_v=0.4, degrees=0.0, translate=0.1, scale=0.5, shear=0.0, perspective=0.0, flipud=0.0, fliplr=0.5, mosaic=1.0, mixup=0.0, copy_paste=0.0\n",
            "\u001b[34m\u001b[1mClearML: \u001b[0mrun 'pip install clearml' to automatically track, visualize and remotely train YOLOv5 🚀 in ClearML\n",
            "\u001b[34m\u001b[1mComet: \u001b[0mrun 'pip install comet_ml' to automatically track and visualize YOLOv5 🚀 runs in Comet\n",
            "\u001b[34m\u001b[1mTensorBoard: \u001b[0mStart with 'tensorboard --logdir runs/train', view at http://localhost:6006/\n",
            "Overriding model.yaml nc=80 with nc=2\n",
            "\n",
            "                 from  n    params  module                                  arguments                     \n",
            "  0                -1  1      3520  models.common.Conv                      [3, 32, 6, 2, 2]              \n",
            "  1                -1  1     18560  models.common.Conv                      [32, 64, 3, 2]                \n",
            "  2                -1  1     18816  models.common.C3                        [64, 64, 1]                   \n",
            "  3                -1  1     73984  models.common.Conv                      [64, 128, 3, 2]               \n",
            "  4                -1  2    115712  models.common.C3                        [128, 128, 2]                 \n",
            "  5                -1  1    295424  models.common.Conv                      [128, 256, 3, 2]              \n",
            "  6                -1  3    625152  models.common.C3                        [256, 256, 3]                 \n",
            "  7                -1  1   1180672  models.common.Conv                      [256, 512, 3, 2]              \n",
            "  8                -1  1   1182720  models.common.C3                        [512, 512, 1]                 \n",
            "  9                -1  1    656896  models.common.SPPF                      [512, 512, 5]                 \n",
            " 10                -1  1    131584  models.common.Conv                      [512, 256, 1, 1]              \n",
            " 11                -1  1         0  torch.nn.modules.upsampling.Upsample    [None, 2, 'nearest']          \n",
            " 12           [-1, 6]  1         0  models.common.Concat                    [1]                           \n",
            " 13                -1  1    361984  models.common.C3                        [512, 256, 1, False]          \n",
            " 14                -1  1     33024  models.common.Conv                      [256, 128, 1, 1]              \n",
            " 15                -1  1         0  torch.nn.modules.upsampling.Upsample    [None, 2, 'nearest']          \n",
            " 16           [-1, 4]  1         0  models.common.Concat                    [1]                           \n",
            " 17                -1  1     90880  models.common.C3                        [256, 128, 1, False]          \n",
            " 18                -1  1    147712  models.common.Conv                      [128, 128, 3, 2]              \n",
            " 19          [-1, 14]  1         0  models.common.Concat                    [1]                           \n",
            " 20                -1  1    296448  models.common.C3                        [256, 256, 1, False]          \n",
            " 21                -1  1    590336  models.common.Conv                      [256, 256, 3, 2]              \n",
            " 22          [-1, 10]  1         0  models.common.Concat                    [1]                           \n",
            " 23                -1  1   1182720  models.common.C3                        [512, 512, 1, False]          \n",
            " 24      [17, 20, 23]  1     18879  models.yolo.Detect                      [2, [[10, 13, 16, 30, 33, 23], [30, 61, 62, 45, 59, 119], [116, 90, 156, 198, 373, 326]], [128, 256, 512]]\n",
            "YOLOv5s summary: 214 layers, 7025023 parameters, 7025023 gradients, 16.0 GFLOPs\n",
            "\n",
            "Transferred 342/349 items from yolov5s.pt\n",
            "\u001b[34m\u001b[1mAMP: \u001b[0mchecks passed ✅\n",
            "\u001b[34m\u001b[1moptimizer:\u001b[0m SGD(lr=0.01) with parameter groups 57 weight(decay=0.0), 60 weight(decay=0.0005), 60 bias\n",
            "\u001b[34m\u001b[1malbumentations: \u001b[0mBlur(p=0.01, blur_limit=(3, 7)), MedianBlur(p=0.01, blur_limit=(3, 7)), ToGray(p=0.01), CLAHE(p=0.01, clip_limit=(1, 4.0), tile_grid_size=(8, 8))\n",
            "\u001b[34m\u001b[1mtrain: \u001b[0mScanning /content/dataset/train.cache... 627 images, 0 backgrounds, 0 corrupt: 100% 627/627 [00:00<?, ?it/s]\n",
            "\u001b[34m\u001b[1mval: \u001b[0mScanning /content/dataset/valid... 18 images, 0 backgrounds, 0 corrupt: 100% 18/18 [00:00<00:00, 355.47it/s]\n",
            "\u001b[34m\u001b[1mval: \u001b[0mNew cache created: /content/dataset/valid.cache\n",
            "\n",
            "\u001b[34m\u001b[1mAutoAnchor: \u001b[0m5.33 anchors/target, 1.000 Best Possible Recall (BPR). Current anchors are a good fit to dataset ✅\n",
            "Plotting labels to runs/train/park_yolov5s_results4/labels.jpg... \n",
            "Image sizes 416 train, 416 val\n",
            "Using 2 dataloader workers\n",
            "Logging results to \u001b[1mruns/train/park_yolov5s_results4\u001b[0m\n",
            "Starting training for 10 epochs...\n",
            "\n",
            "      Epoch    GPU_mem   box_loss   obj_loss   cls_loss  Instances       Size\n",
            "        0/9      3.02G     0.1119     0.1137    0.02828        401        416: 100% 20/20 [00:24<00:00,  1.23s/it]\n",
            "                 Class     Images  Instances          P          R      mAP50   mAP50-95: 100% 1/1 [00:01<00:00,  1.08s/it]\n",
            "                   all         18        401     0.0522      0.154     0.0395     0.0095\n",
            "\n",
            "      Epoch    GPU_mem   box_loss   obj_loss   cls_loss  Instances       Size\n",
            "        1/9      3.02G    0.08559     0.1155    0.02128        404        416: 100% 20/20 [00:13<00:00,  1.48it/s]\n",
            "                 Class     Images  Instances          P          R      mAP50   mAP50-95: 100% 1/1 [00:00<00:00,  1.60it/s]\n",
            "                   all         18        401      0.597      0.204      0.117     0.0314\n",
            "\n",
            "      Epoch    GPU_mem   box_loss   obj_loss   cls_loss  Instances       Size\n",
            "        2/9      3.02G    0.07119     0.1106    0.01602        530        416: 100% 20/20 [00:15<00:00,  1.33it/s]\n",
            "                 Class     Images  Instances          P          R      mAP50   mAP50-95: 100% 1/1 [00:00<00:00,  1.45it/s]\n",
            "                   all         18        401      0.325      0.486      0.375      0.116\n",
            "\n",
            "      Epoch    GPU_mem   box_loss   obj_loss   cls_loss  Instances       Size\n",
            "        3/9      3.02G    0.06658     0.1011    0.01091        299        416: 100% 20/20 [00:14<00:00,  1.36it/s]\n",
            "                 Class     Images  Instances          P          R      mAP50   mAP50-95: 100% 1/1 [00:00<00:00,  3.47it/s]\n",
            "                   all         18        401      0.215       0.42      0.234     0.0596\n",
            "\n",
            "      Epoch    GPU_mem   box_loss   obj_loss   cls_loss  Instances       Size\n",
            "        4/9      3.02G    0.06443     0.1005   0.008386        490        416: 100% 20/20 [00:14<00:00,  1.37it/s]\n",
            "                 Class     Images  Instances          P          R      mAP50   mAP50-95: 100% 1/1 [00:00<00:00,  2.47it/s]\n",
            "                   all         18        401      0.334      0.408      0.342      0.105\n",
            "\n",
            "      Epoch    GPU_mem   box_loss   obj_loss   cls_loss  Instances       Size\n",
            "        5/9      3.02G    0.06126     0.1007   0.006943        480        416: 100% 20/20 [00:14<00:00,  1.36it/s]\n",
            "                 Class     Images  Instances          P          R      mAP50   mAP50-95: 100% 1/1 [00:00<00:00,  2.70it/s]\n",
            "                   all         18        401      0.462      0.454      0.415      0.131\n",
            "\n",
            "      Epoch    GPU_mem   box_loss   obj_loss   cls_loss  Instances       Size\n",
            "        6/9      3.02G    0.05799    0.09664    0.00623        453        416: 100% 20/20 [00:13<00:00,  1.44it/s]\n",
            "                 Class     Images  Instances          P          R      mAP50   mAP50-95: 100% 1/1 [00:00<00:00,  3.37it/s]\n",
            "                   all         18        401      0.422      0.481       0.43      0.139\n",
            "\n",
            "      Epoch    GPU_mem   box_loss   obj_loss   cls_loss  Instances       Size\n",
            "        7/9      3.02G     0.0529     0.0943   0.005749        493        416: 100% 20/20 [00:14<00:00,  1.42it/s]\n",
            "                 Class     Images  Instances          P          R      mAP50   mAP50-95: 100% 1/1 [00:00<00:00,  2.98it/s]\n",
            "                   all         18        401      0.638      0.538      0.549      0.199\n",
            "\n",
            "      Epoch    GPU_mem   box_loss   obj_loss   cls_loss  Instances       Size\n",
            "        8/9      3.02G    0.04936    0.09292   0.005438        422        416: 100% 20/20 [00:14<00:00,  1.37it/s]\n",
            "                 Class     Images  Instances          P          R      mAP50   mAP50-95: 100% 1/1 [00:00<00:00,  1.91it/s]\n",
            "                   all         18        401      0.537      0.529      0.471       0.17\n",
            "\n",
            "      Epoch    GPU_mem   box_loss   obj_loss   cls_loss  Instances       Size\n",
            "        9/9      3.02G    0.04617    0.09277   0.005153        519        416: 100% 20/20 [00:14<00:00,  1.35it/s]\n",
            "                 Class     Images  Instances          P          R      mAP50   mAP50-95: 100% 1/1 [00:00<00:00,  2.85it/s]\n",
            "                   all         18        401      0.691      0.638      0.621       0.23\n",
            "\n",
            "10 epochs completed in 0.047 hours.\n",
            "Optimizer stripped from runs/train/park_yolov5s_results4/weights/last.pt, 14.3MB\n",
            "Optimizer stripped from runs/train/park_yolov5s_results4/weights/best.pt, 14.3MB\n",
            "\n",
            "Validating runs/train/park_yolov5s_results4/weights/best.pt...\n",
            "Fusing layers... \n",
            "YOLOv5s summary: 157 layers, 7015519 parameters, 0 gradients, 15.8 GFLOPs\n",
            "                 Class     Images  Instances          P          R      mAP50   mAP50-95: 100% 1/1 [00:00<00:00,  2.44it/s]\n",
            "                   all         18        401      0.689      0.637      0.616      0.229\n",
            "                   Car         18        225      0.843      0.785      0.839      0.348\n",
            "                 Empty         18        176      0.535      0.489      0.394      0.111\n",
            "Results saved to \u001b[1mruns/train/park_yolov5s_results4\u001b[0m\n"
          ]
        }
      ]
    },
    {
      "cell_type": "code",
      "source": [
        "from IPython.display import Image\n",
        "import os\n",
        "\n",
        "\n",
        "\n",
        "!python detect.py --weights /content/yolov5/runs/train/park_yolov5s_results3/weights/best.pt --img 416 --conf 0.5 --source /content/detect5.png"
      ],
      "metadata": {
        "colab": {
          "base_uri": "https://localhost:8080/"
        },
        "id": "mVWaOrNBo1y9",
        "outputId": "71a6c562-3cfc-4df0-9cdb-07df2d4b43e2"
      },
      "execution_count": null,
      "outputs": [
        {
          "output_type": "stream",
          "name": "stdout",
          "text": [
            "\u001b[34m\u001b[1mdetect: \u001b[0mweights=['/content/yolov5/runs/train/park_yolov5s_results3/weights/best.pt'], source=/content/detect5.png, data=data/coco128.yaml, imgsz=[416, 416], conf_thres=0.5, iou_thres=0.45, max_det=1000, device=, view_img=False, save_txt=False, save_conf=False, save_crop=False, nosave=False, classes=None, agnostic_nms=False, augment=False, visualize=False, update=False, project=runs/detect, name=exp, exist_ok=False, line_thickness=3, hide_labels=False, hide_conf=False, half=False, dnn=False, vid_stride=1\n",
            "YOLOv5 🚀 v7.0-172-gc3c1304 Python-3.10.11 torch-2.0.1+cu118 CUDA:0 (Tesla T4, 15102MiB)\n",
            "\n",
            "Fusing layers... \n",
            "YOLOv5s summary: 157 layers, 7015519 parameters, 0 gradients, 15.8 GFLOPs\n",
            "image 1/1 /content/detect5.png: 256x416 45 Cars, 1 Empty, 43.4ms\n",
            "Speed: 0.3ms pre-process, 43.4ms inference, 2.1ms NMS per image at shape (1, 3, 416, 416)\n",
            "Results saved to \u001b[1mruns/detect/exp15\u001b[0m\n"
          ]
        }
      ]
    },
    {
      "cell_type": "code",
      "source": [],
      "metadata": {
        "id": "Je6As-2TpgQQ"
      },
      "execution_count": null,
      "outputs": []
    }
  ]
}